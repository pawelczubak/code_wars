{
 "cells": [
  {
   "cell_type": "markdown",
   "id": "3bee14fe03a8f7c4",
   "metadata": {},
   "source": [
    "Complete the square sum function so that it squares each number passed into it and then sums the results together.\n",
    "\n",
    "For example, for [1, 2, 2] it should return 9 because\n",
    "1\n",
    "2\n",
    "+\n",
    "2\n",
    "2\n",
    "+\n",
    "2\n",
    "2\n",
    "=\n",
    "9\n",
    "1\n",
    "2\n",
    " +2\n",
    "2\n",
    " +2\n",
    "2\n",
    " =9."
   ]
  },
  {
   "cell_type": "code",
   "execution_count": 8,
   "id": "580623c7277d8255",
   "metadata": {
    "ExecuteTime": {
     "end_time": "2025-02-18T20:50:28.483458Z",
     "start_time": "2025-02-18T20:50:28.479936Z"
    }
   },
   "outputs": [
    {
     "name": "stdout",
     "output_type": "stream",
     "text": [
      "9\n"
     ]
    }
   ],
   "source": [
    "def square_sum(numbers):\n",
    "    container = []\n",
    "    for item in numbers:\n",
    "        container.append(item*item)\n",
    "    return sum(container)\n",
    "\n",
    "\n",
    "\n",
    "\n",
    "square_sum([1, 2, 2])"
   ]
  },
  {
   "cell_type": "code",
   "execution_count": 10,
   "id": "a37b27b63eb9c7b9",
   "metadata": {
    "ExecuteTime": {
     "end_time": "2025-02-18T20:54:37.603398Z",
     "start_time": "2025-02-18T20:54:37.598702Z"
    }
   },
   "outputs": [
    {
     "data": {
      "text/plain": [
       "9"
      ]
     },
     "execution_count": 10,
     "metadata": {},
     "output_type": "execute_result"
    }
   ],
   "source": [
    "def square_sum(numbers):\n",
    "    return sum([item*item for item in numbers])\n",
    "\n",
    "\n",
    "\n",
    "\n",
    "square_sum([1, 2, 2])"
   ]
  },
  {
   "cell_type": "markdown",
   "id": "83862ef2869e730d",
   "metadata": {},
   "source": [
    "Consider an array/list of sheep where some sheep may be missing from their place. We need a function that counts the number of sheep present in the array (true means present).\n",
    "\n",
    "For example,\n",
    "\n",
    "[True,  True,  True,  False,\n",
    "  True,  True,  True,  True ,\n",
    "  True,  False, True,  False,\n",
    "  True,  False, False, True ,\n",
    "  True,  True,  True,  True ,\n",
    "  False, False, True,  True]\n",
    "The correct answer would be 17.\n",
    "\n",
    "Hint: Don't forget to check for bad values like null/undefined"
   ]
  },
  {
   "cell_type": "code",
   "execution_count": 16,
   "id": "89b5414320a30b23",
   "metadata": {
    "ExecuteTime": {
     "end_time": "2025-02-18T21:02:53.452837Z",
     "start_time": "2025-02-18T21:02:53.448718Z"
    }
   },
   "outputs": [
    {
     "data": {
      "text/plain": [
       "17"
      ]
     },
     "execution_count": 16,
     "metadata": {},
     "output_type": "execute_result"
    }
   ],
   "source": [
    "def count_sheeps(sheep):\n",
    "  return len([sheep for sheep in sheep if sheep is True])\n",
    "\n",
    "array1 = [True,  True,  True,  False,\n",
    "         True,  True,  True,  True,\n",
    "         True,  False, True,  False,\n",
    "         True,  False, False, True,\n",
    "         True,  True,  True,  True,\n",
    "         False, False, True,  True];\n",
    "\n",
    "count_sheeps(array1)\n"
   ]
  },
  {
   "cell_type": "markdown",
   "id": "ca056c63ccfaad47",
   "metadata": {},
   "source": [
    "Implement a function which convert the given boolean value into its string representation.\n",
    "\n",
    "Note: Only valid inputs will be given."
   ]
  },
  {
   "cell_type": "code",
   "execution_count": 17,
   "id": "57bd1acc15335e90",
   "metadata": {
    "ExecuteTime": {
     "end_time": "2025-02-18T21:07:42.767075Z",
     "start_time": "2025-02-18T21:07:42.761813Z"
    }
   },
   "outputs": [],
   "source": [
    "def boolean_to_string(b):\n",
    "    if b is True:\n",
    "        return \"True\"\n",
    "    elif b is False:\n",
    "        return \"False\"\n",
    "\n",
    "boolean_to_string(\"Fixed Tests\")"
   ]
  },
  {
   "cell_type": "markdown",
   "id": "55fbf627eb599377",
   "metadata": {},
   "source": [
    "It's pretty straightforward. Your goal is to create a function that removes the first and last characters of a string. You're given one parameter, the original string. You don't have to worry about strings with less than two characters."
   ]
  },
  {
   "cell_type": "code",
   "execution_count": 18,
   "id": "3e4ed7237cbab85a",
   "metadata": {
    "ExecuteTime": {
     "end_time": "2025-02-18T21:11:20.740101Z",
     "start_time": "2025-02-18T21:11:20.731007Z"
    }
   },
   "outputs": [
    {
     "name": "stdout",
     "output_type": "stream",
     "text": [
      "loquen\n"
     ]
    }
   ],
   "source": [
    "def remove_char(s):\n",
    "    return s[1:-1]\n",
    "\n",
    "remove_char('eloquent')"
   ]
  },
  {
   "cell_type": "markdown",
   "id": "bda5cda516d8823d",
   "metadata": {},
   "source": [
    "You were camping with your friends far away from home, but when it's time to go back, you realize that your fuel is running out and the nearest pump is 50 miles away! You know that on average, your car runs on about 25 miles per gallon. There are 2 gallons left.\n",
    "\n",
    "Considering these factors, write a function that tells you if it is possible to get to the pump or not.\n",
    "\n",
    "Function should return true if it is possible and false if not."
   ]
  },
  {
   "cell_type": "code",
   "execution_count": 24,
   "id": "55b3e4115acf4d88",
   "metadata": {
    "ExecuteTime": {
     "end_time": "2025-02-18T21:20:15.440201Z",
     "start_time": "2025-02-18T21:20:15.435309Z"
    }
   },
   "outputs": [
    {
     "data": {
      "text/plain": [
       "False"
      ]
     },
     "execution_count": 24,
     "metadata": {},
     "output_type": "execute_result"
    }
   ],
   "source": [
    "def zero_fuel(distance_to_pump, mpg, fuel_left):\n",
    "    if (mpg * fuel_left) - distance_to_pump >= 0:\n",
    "        return True\n",
    "    else:\n",
    "        return False\n",
    "\n",
    "zero_fuel(60, 25, 2)"
   ]
  },
  {
   "cell_type": "markdown",
   "id": "d51a95711e116a62",
   "metadata": {},
   "source": [
    "Note: This kata is inspired by Convert a Number to a String!. Try that one too.\n",
    "\n",
    "Description\n",
    "We need a function that can transform a string into a number. What ways of achieving this do you know?\n",
    "\n",
    "Note: Don't worry, all inputs will be strings, and every string is a perfectly valid representation of an integral number.\n",
    "\n",
    "Examples\n",
    "\"1234\" --> 1234\n",
    "\"605\"  --> 605\n",
    "\"1405\" --> 1405\n",
    "\"-7\" --> -7"
   ]
  },
  {
   "cell_type": "code",
   "execution_count": null,
   "id": "82c440276a50b605",
   "metadata": {},
   "outputs": [],
   "source": [
    "def string_to_number(s):\n",
    "    return int(s)\n",
    "\n",
    "string_to_number(\"1234\")"
   ]
  },
  {
   "cell_type": "markdown",
   "id": "8f44eb4c01f526cf",
   "metadata": {},
   "source": [
    "Write a function which converts the input string to uppercase."
   ]
  },
  {
   "cell_type": "code",
   "execution_count": 25,
   "id": "7ee09e066a91c760",
   "metadata": {
    "ExecuteTime": {
     "end_time": "2025-02-18T21:26:44.438046Z",
     "start_time": "2025-02-18T21:26:44.433660Z"
    }
   },
   "outputs": [],
   "source": [
    "def make_upper_case(s):\n",
    "    s.upper()\n",
    "\n",
    "make_upper_case(\"hello\")"
   ]
  },
  {
   "cell_type": "markdown",
   "id": "7ecd05c0b87badf1",
   "metadata": {},
   "source": [
    "Write function bmi that calculates body mass index (bmi = weight / height2).\n",
    "\n",
    "if bmi <= 18.5 return \"Underweight\"\n",
    "\n",
    "if bmi <= 25.0 return \"Normal\"\n",
    "\n",
    "if bmi <= 30.0 return \"Overweight\"\n",
    "\n",
    "if bmi > 30 return \"Obese\""
   ]
  },
  {
   "cell_type": "code",
   "execution_count": 28,
   "id": "a3b4f00f84338771",
   "metadata": {
    "ExecuteTime": {
     "end_time": "2025-02-18T21:30:26.730119Z",
     "start_time": "2025-02-18T21:30:26.726861Z"
    }
   },
   "outputs": [
    {
     "name": "stdout",
     "output_type": "stream",
     "text": [
      "15.432098765432098\n"
     ]
    }
   ],
   "source": [
    "def bmi(weight, height):\n",
    "    score = weight / height ** 2\n",
    "    if score <= 18.5:\n",
    "        return \"Underweight\"\n",
    "    elif score <= 25:\n",
    "        return \"Normal\"\n",
    "    elif score <= 30:\n",
    "        return \"Overweight\"\n",
    "    else:\n",
    "        return \"Obese\"\n",
    "\n",
    "bmi(50, 1.80)"
   ]
  },
  {
   "cell_type": "code",
   "execution_count": null,
   "id": "c54578fe8d607e57",
   "metadata": {},
   "outputs": [],
   "source": []
  },
  {
   "cell_type": "markdown",
   "id": "4e59bd50374702de",
   "metadata": {},
   "source": [
    "Complete the function scramble(str1, str2) that returns true if a portion of str1 characters can be rearranged to match str2, otherwise returns false.\n",
    "\n",
    "Notes:\n",
    "\n",
    "Only lower case letters will be used (a-z). No punctuation or digits will be included.\n",
    "Performance needs to be considered.\n",
    "Examples\n",
    "scramble('rkqodlw', 'world') ==> True\n",
    "scramble('cedewaraaossoqqyt', 'codewars') ==> True\n",
    "scramble('katas', 'steak') ==> False"
   ]
  },
  {
   "cell_type": "code",
   "execution_count": 29,
   "id": "78ad85666984420c",
   "metadata": {
    "ExecuteTime": {
     "end_time": "2025-02-18T22:01:20.608519Z",
     "start_time": "2025-02-18T22:01:20.600662Z"
    }
   },
   "outputs": [],
   "source": [
    "def scramble(s1, s2):\n",
    "    return all(s2.count(char) <= s1.count(char) for char in set(s2))\n",
    "\n",
    "\n",
    "scramble('rkqodlw', 'world')"
   ]
  },
  {
   "cell_type": "markdown",
   "id": "40b0962e71012a36",
   "metadata": {},
   "source": [
    "Task:\n",
    "Build a string representing a capital letter C of a given size out of 'C' characters.\n",
    "\n",
    "Examples:\n",
    "generate_C(1) should return this string:\n",
    "\n",
    "CCCCC C C C CCCCC\n",
    "\n",
    "generate_C(2) should be\n",
    "\n",
    "CCCCCCCCCC CCCCCCCCCC CC CC CC CC CC CC CCCCCCCCCC CCCCCCCCCC\n",
    "\n",
    "and so on. The string returned by generate_C(size) should have 5*size lines, following the format above. size is a positive integer ≤ 2000.\n",
    "\n",
    "Note that extra spaces after the C's in any line are incorrect. And the last line should not terminate with \"\\n\".\n",
    "\n",
    "This kata was inspired by A for Apple, but takes a different approach to generating letters."
   ]
  },
  {
   "cell_type": "code",
   "execution_count": 22,
   "id": "3d3065f14117851e",
   "metadata": {
    "ExecuteTime": {
     "end_time": "2025-02-21T21:01:30.368017Z",
     "start_time": "2025-02-21T21:01:30.363403Z"
    }
   },
   "outputs": [
    {
     "data": {
      "text/plain": [
       "'CCCCCCCCCC\\nCCCCCCCCCC\\nCC\\nCC\\nCC\\nCC\\nCC\\nCC\\nCCCCCCCCCC\\nCCCCCCCCCC'"
      ]
     },
     "execution_count": 22,
     "metadata": {},
     "output_type": "execute_result"
    }
   ],
   "source": [
    "def generate_C(size):\n",
    "    list = [5, 1, 1, 1, 5]\n",
    "    result = []\n",
    "    container = []\n",
    "    for item in list:\n",
    "        for _ in range(size):\n",
    "            result.append(item)\n",
    "    for i in result:\n",
    "        container.append(i * size * 'C')\n",
    "\n",
    "    return \"\\n\".join(container)\n",
    "\n",
    "\n",
    "\n",
    "generate_C(2)"
   ]
  },
  {
   "cell_type": "markdown",
   "id": "fbf7135068fbeb60",
   "metadata": {},
   "source": [
    "Given an array of numbers (in string format), you must return a string. The numbers correspond to the letters of the alphabet in reverse order: a=26, z=1 etc. You should also account for '!', '?' and ' ' that are represented by '27', '28' and '29' respectively.\n",
    "\n",
    "All inputs will be valid.\n",
    "\n"
   ]
  },
  {
   "cell_type": "code",
   "execution_count": 36,
   "id": "7cc7d1d79ca1957e",
   "metadata": {
    "ExecuteTime": {
     "end_time": "2025-02-21T21:44:43.955352Z",
     "start_time": "2025-02-21T21:44:43.951830Z"
    }
   },
   "outputs": [
    {
     "data": {
      "text/plain": [
       "'yoq'"
      ]
     },
     "execution_count": 36,
     "metadata": {},
     "output_type": "execute_result"
    }
   ],
   "source": [
    "def switcher(arr):\n",
    "    letters = ' zyxwvutsrqponmlkjihgfedcba!? '\n",
    "    return \"\".join([letters[int(number)] for number in arr])\n",
    "\n",
    "\n",
    "switcher(['2', '12', '10'])"
   ]
  },
  {
   "cell_type": "markdown",
   "id": "cef109f9",
   "metadata": {},
   "source": [
    "A genetic algorithm is based in groups of chromosomes, called populations. To start our population of chromosomes we need to generate random binary strings with a specified length.\n",
    "\n",
    "In this kata you have to implement a function generate that receives a length and has to return a random binary strign with length characters.\n",
    "\n",
    "\n",
    "\n",
    "Example:\n",
    "Generate a chromosome with length of 4 generate(4) could return the chromosome 0010, 1110, 1111... or any of 2^4 possibilities.\n",
    "\n",
    "Note: Some tests are random. If you think your algorithm is correct but the result fails, trying again should work.\n",
    "\n",
    "See other katas from this series\n",
    "Genetic Algorithm Series - #1 Generate\n",
    "Genetic Algorithm Series - #2 Mutation\n",
    "Genetic Algorithm Series - #3 Crossover\n",
    "Genetic Algorithm Series - #4 Get population and fitnesses\n",
    "Genetic Algorithm Series - #5 Roulette wheel selection\n"
   ]
  },
  {
   "cell_type": "code",
   "execution_count": null,
   "id": "60747e93",
   "metadata": {},
   "outputs": [],
   "source": [
    "import random\n",
    "\n",
    "def generate(length):\n",
    "    return ''.join(str(random.choice([0, 1])) for _ in range(length))\n",
    "\n",
    "\n",
    "generate(10)"
   ]
  }
 ],
 "metadata": {
  "kernelspec": {
   "display_name": "Python 3 (ipykernel)",
   "language": "python",
   "name": "python3"
  }
 },
 "nbformat": 5,
 "nbformat_minor": 9
}
